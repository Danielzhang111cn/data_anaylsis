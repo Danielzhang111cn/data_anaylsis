{
  "nbformat": 4,
  "nbformat_minor": 0,
  "metadata": {
    "colab": {
      "name": "AKshare.ipynb",
      "provenance": [],
      "authorship_tag": "ABX9TyMd4SdZjP54PTlBX+78MXjy",
      "include_colab_link": true
    },
    "kernelspec": {
      "name": "python3",
      "display_name": "Python 3"
    },
    "language_info": {
      "name": "python"
    }
  },
  "cells": [
    {
      "cell_type": "markdown",
      "metadata": {
        "id": "view-in-github",
        "colab_type": "text"
      },
      "source": [
        "<a href=\"https://colab.research.google.com/github/Danielzhang111cn/data_anaylsis/blob/master/AKshare.ipynb\" target=\"_parent\"><img src=\"https://colab.research.google.com/assets/colab-badge.svg\" alt=\"Open In Colab\"/></a>"
      ]
    },
    {
      "cell_type": "code",
      "metadata": {
        "colab": {
          "base_uri": "https://localhost:8080/"
        },
        "id": "qVQncobjbDcd",
        "outputId": "bc305d61-9d85-45d2-8849-c9372205d32c"
      },
      "source": [
        "!pip install akshare"
      ],
      "execution_count": 3,
      "outputs": [
        {
          "output_type": "stream",
          "name": "stdout",
          "text": [
            "Collecting akshare\n",
            "  Downloading akshare-1.1.51-py3-none-any.whl (655 kB)\n",
            "\u001b[?25l\r\u001b[K     |▌                               | 10 kB 20.8 MB/s eta 0:00:01\r\u001b[K     |█                               | 20 kB 24.1 MB/s eta 0:00:01\r\u001b[K     |█▌                              | 30 kB 27.4 MB/s eta 0:00:01\r\u001b[K     |██                              | 40 kB 30.7 MB/s eta 0:00:01\r\u001b[K     |██▌                             | 51 kB 33.1 MB/s eta 0:00:01\r\u001b[K     |███                             | 61 kB 34.4 MB/s eta 0:00:01\r\u001b[K     |███▌                            | 71 kB 30.2 MB/s eta 0:00:01\r\u001b[K     |████                            | 81 kB 31.5 MB/s eta 0:00:01\r\u001b[K     |████▌                           | 92 kB 33.0 MB/s eta 0:00:01\r\u001b[K     |█████                           | 102 kB 31.2 MB/s eta 0:00:01\r\u001b[K     |█████▌                          | 112 kB 31.2 MB/s eta 0:00:01\r\u001b[K     |██████                          | 122 kB 31.2 MB/s eta 0:00:01\r\u001b[K     |██████▌                         | 133 kB 31.2 MB/s eta 0:00:01\r\u001b[K     |███████                         | 143 kB 31.2 MB/s eta 0:00:01\r\u001b[K     |███████▌                        | 153 kB 31.2 MB/s eta 0:00:01\r\u001b[K     |████████                        | 163 kB 31.2 MB/s eta 0:00:01\r\u001b[K     |████████▌                       | 174 kB 31.2 MB/s eta 0:00:01\r\u001b[K     |█████████                       | 184 kB 31.2 MB/s eta 0:00:01\r\u001b[K     |█████████▌                      | 194 kB 31.2 MB/s eta 0:00:01\r\u001b[K     |██████████                      | 204 kB 31.2 MB/s eta 0:00:01\r\u001b[K     |██████████▌                     | 215 kB 31.2 MB/s eta 0:00:01\r\u001b[K     |███████████                     | 225 kB 31.2 MB/s eta 0:00:01\r\u001b[K     |███████████▌                    | 235 kB 31.2 MB/s eta 0:00:01\r\u001b[K     |████████████                    | 245 kB 31.2 MB/s eta 0:00:01\r\u001b[K     |████████████▌                   | 256 kB 31.2 MB/s eta 0:00:01\r\u001b[K     |█████████████                   | 266 kB 31.2 MB/s eta 0:00:01\r\u001b[K     |█████████████▌                  | 276 kB 31.2 MB/s eta 0:00:01\r\u001b[K     |██████████████                  | 286 kB 31.2 MB/s eta 0:00:01\r\u001b[K     |██████████████▌                 | 296 kB 31.2 MB/s eta 0:00:01\r\u001b[K     |███████████████                 | 307 kB 31.2 MB/s eta 0:00:01\r\u001b[K     |███████████████▌                | 317 kB 31.2 MB/s eta 0:00:01\r\u001b[K     |████████████████                | 327 kB 31.2 MB/s eta 0:00:01\r\u001b[K     |████████████████▌               | 337 kB 31.2 MB/s eta 0:00:01\r\u001b[K     |█████████████████               | 348 kB 31.2 MB/s eta 0:00:01\r\u001b[K     |█████████████████▌              | 358 kB 31.2 MB/s eta 0:00:01\r\u001b[K     |██████████████████              | 368 kB 31.2 MB/s eta 0:00:01\r\u001b[K     |██████████████████▌             | 378 kB 31.2 MB/s eta 0:00:01\r\u001b[K     |███████████████████             | 389 kB 31.2 MB/s eta 0:00:01\r\u001b[K     |███████████████████▌            | 399 kB 31.2 MB/s eta 0:00:01\r\u001b[K     |████████████████████            | 409 kB 31.2 MB/s eta 0:00:01\r\u001b[K     |████████████████████▌           | 419 kB 31.2 MB/s eta 0:00:01\r\u001b[K     |█████████████████████           | 430 kB 31.2 MB/s eta 0:00:01\r\u001b[K     |█████████████████████▌          | 440 kB 31.2 MB/s eta 0:00:01\r\u001b[K     |██████████████████████          | 450 kB 31.2 MB/s eta 0:00:01\r\u001b[K     |██████████████████████▌         | 460 kB 31.2 MB/s eta 0:00:01\r\u001b[K     |███████████████████████         | 471 kB 31.2 MB/s eta 0:00:01\r\u001b[K     |███████████████████████▌        | 481 kB 31.2 MB/s eta 0:00:01\r\u001b[K     |████████████████████████        | 491 kB 31.2 MB/s eta 0:00:01\r\u001b[K     |████████████████████████▌       | 501 kB 31.2 MB/s eta 0:00:01\r\u001b[K     |█████████████████████████       | 512 kB 31.2 MB/s eta 0:00:01\r\u001b[K     |█████████████████████████▌      | 522 kB 31.2 MB/s eta 0:00:01\r\u001b[K     |██████████████████████████      | 532 kB 31.2 MB/s eta 0:00:01\r\u001b[K     |██████████████████████████▌     | 542 kB 31.2 MB/s eta 0:00:01\r\u001b[K     |███████████████████████████     | 552 kB 31.2 MB/s eta 0:00:01\r\u001b[K     |███████████████████████████▌    | 563 kB 31.2 MB/s eta 0:00:01\r\u001b[K     |████████████████████████████    | 573 kB 31.2 MB/s eta 0:00:01\r\u001b[K     |████████████████████████████▌   | 583 kB 31.2 MB/s eta 0:00:01\r\u001b[K     |█████████████████████████████   | 593 kB 31.2 MB/s eta 0:00:01\r\u001b[K     |█████████████████████████████▌  | 604 kB 31.2 MB/s eta 0:00:01\r\u001b[K     |██████████████████████████████  | 614 kB 31.2 MB/s eta 0:00:01\r\u001b[K     |██████████████████████████████▌ | 624 kB 31.2 MB/s eta 0:00:01\r\u001b[K     |███████████████████████████████ | 634 kB 31.2 MB/s eta 0:00:01\r\u001b[K     |███████████████████████████████▌| 645 kB 31.2 MB/s eta 0:00:01\r\u001b[K     |████████████████████████████████| 655 kB 31.2 MB/s eta 0:00:01\r\u001b[K     |████████████████████████████████| 655 kB 31.2 MB/s \n",
            "\u001b[?25hCollecting jsonpath>=0.82\n",
            "  Downloading jsonpath-0.82.tar.gz (9.6 kB)\n",
            "Requirement already satisfied: pandas>=0.25 in /usr/local/lib/python3.7/dist-packages (from akshare) (1.1.5)\n",
            "Requirement already satisfied: lxml>=4.2.1 in /usr/local/lib/python3.7/dist-packages (from akshare) (4.2.6)\n",
            "Requirement already satisfied: pillow>=6.2.0 in /usr/local/lib/python3.7/dist-packages (from akshare) (7.1.2)\n",
            "Requirement already satisfied: numpy>=1.15.4 in /usr/local/lib/python3.7/dist-packages (from akshare) (1.19.5)\n",
            "Collecting websocket-client>=0.56.0\n",
            "  Downloading websocket_client-1.2.1-py2.py3-none-any.whl (52 kB)\n",
            "\u001b[K     |████████████████████████████████| 52 kB 1.7 MB/s \n",
            "\u001b[?25hRequirement already satisfied: decorator>=4.4.2 in /usr/local/lib/python3.7/dist-packages (from akshare) (4.4.2)\n",
            "Collecting py-mini-racer>=0.6.0\n",
            "  Downloading py_mini_racer-0.6.0-py2.py3-none-manylinux1_x86_64.whl (5.4 MB)\n",
            "\u001b[K     |████████████████████████████████| 5.4 MB 42.2 MB/s \n",
            "\u001b[?25hRequirement already satisfied: html5lib>=1.0.1 in /usr/local/lib/python3.7/dist-packages (from akshare) (1.0.1)\n",
            "Collecting pypinyin>=0.35.0\n",
            "  Downloading pypinyin-0.42.0-py2.py3-none-any.whl (1.3 MB)\n",
            "\u001b[K     |████████████████████████████████| 1.3 MB 21.8 MB/s \n",
            "\u001b[?25hRequirement already satisfied: requests>=2.22.0 in /usr/local/lib/python3.7/dist-packages (from akshare) (2.23.0)\n",
            "Collecting openpyxl>=3.0.3\n",
            "  Downloading openpyxl-3.0.9-py2.py3-none-any.whl (242 kB)\n",
            "\u001b[K     |████████████████████████████████| 242 kB 59.2 MB/s \n",
            "\u001b[?25hCollecting xlrd>=1.2.0\n",
            "  Downloading xlrd-2.0.1-py2.py3-none-any.whl (96 kB)\n",
            "\u001b[K     |████████████████████████████████| 96 kB 5.9 MB/s \n",
            "\u001b[?25hRequirement already satisfied: matplotlib>=3.1.1 in /usr/local/lib/python3.7/dist-packages (from akshare) (3.2.2)\n",
            "Requirement already satisfied: tabulate>=0.8.6 in /usr/local/lib/python3.7/dist-packages (from akshare) (0.8.9)\n",
            "Collecting beautifulsoup4>=4.9.1\n",
            "  Downloading beautifulsoup4-4.10.0-py3-none-any.whl (97 kB)\n",
            "\u001b[K     |████████████████████████████████| 97 kB 7.0 MB/s \n",
            "\u001b[?25hRequirement already satisfied: tqdm>=4.43.0 in /usr/local/lib/python3.7/dist-packages (from akshare) (4.62.3)\n",
            "Collecting urllib3>=1.25.8\n",
            "  Downloading urllib3-1.26.7-py2.py3-none-any.whl (138 kB)\n",
            "\u001b[K     |████████████████████████████████| 138 kB 59.1 MB/s \n",
            "\u001b[?25hCollecting soupsieve>1.2\n",
            "  Downloading soupsieve-2.2.1-py3-none-any.whl (33 kB)\n",
            "Requirement already satisfied: webencodings in /usr/local/lib/python3.7/dist-packages (from html5lib>=1.0.1->akshare) (0.5.1)\n",
            "Requirement already satisfied: six>=1.9 in /usr/local/lib/python3.7/dist-packages (from html5lib>=1.0.1->akshare) (1.15.0)\n",
            "Requirement already satisfied: cycler>=0.10 in /usr/local/lib/python3.7/dist-packages (from matplotlib>=3.1.1->akshare) (0.10.0)\n",
            "Requirement already satisfied: kiwisolver>=1.0.1 in /usr/local/lib/python3.7/dist-packages (from matplotlib>=3.1.1->akshare) (1.3.2)\n",
            "Requirement already satisfied: python-dateutil>=2.1 in /usr/local/lib/python3.7/dist-packages (from matplotlib>=3.1.1->akshare) (2.8.2)\n",
            "Requirement already satisfied: pyparsing!=2.0.4,!=2.1.2,!=2.1.6,>=2.0.1 in /usr/local/lib/python3.7/dist-packages (from matplotlib>=3.1.1->akshare) (2.4.7)\n",
            "Requirement already satisfied: et-xmlfile in /usr/local/lib/python3.7/dist-packages (from openpyxl>=3.0.3->akshare) (1.1.0)\n",
            "Requirement already satisfied: pytz>=2017.2 in /usr/local/lib/python3.7/dist-packages (from pandas>=0.25->akshare) (2018.9)\n",
            "Requirement already satisfied: idna<3,>=2.5 in /usr/local/lib/python3.7/dist-packages (from requests>=2.22.0->akshare) (2.10)\n",
            "Requirement already satisfied: certifi>=2017.4.17 in /usr/local/lib/python3.7/dist-packages (from requests>=2.22.0->akshare) (2021.5.30)\n",
            "Requirement already satisfied: chardet<4,>=3.0.2 in /usr/local/lib/python3.7/dist-packages (from requests>=2.22.0->akshare) (3.0.4)\n",
            "Collecting urllib3>=1.25.8\n",
            "  Downloading urllib3-1.25.11-py2.py3-none-any.whl (127 kB)\n",
            "\u001b[K     |████████████████████████████████| 127 kB 57.3 MB/s \n",
            "\u001b[?25hBuilding wheels for collected packages: jsonpath\n",
            "  Building wheel for jsonpath (setup.py) ... \u001b[?25l\u001b[?25hdone\n",
            "  Created wheel for jsonpath: filename=jsonpath-0.82-py3-none-any.whl size=5612 sha256=e1c21c7fe67e630b41afd694b8f499f263a799cd7fc95d24ca5767ba5683924e\n",
            "  Stored in directory: /root/.cache/pip/wheels/93/96/be/f88ab62b037a115c856324fd87a04b97807069a229560add06\n",
            "Successfully built jsonpath\n",
            "Installing collected packages: urllib3, soupsieve, xlrd, websocket-client, pypinyin, py-mini-racer, openpyxl, jsonpath, beautifulsoup4, akshare\n",
            "  Attempting uninstall: urllib3\n",
            "    Found existing installation: urllib3 1.24.3\n",
            "    Uninstalling urllib3-1.24.3:\n",
            "      Successfully uninstalled urllib3-1.24.3\n",
            "  Attempting uninstall: xlrd\n",
            "    Found existing installation: xlrd 1.1.0\n",
            "    Uninstalling xlrd-1.1.0:\n",
            "      Successfully uninstalled xlrd-1.1.0\n",
            "  Attempting uninstall: openpyxl\n",
            "    Found existing installation: openpyxl 2.5.9\n",
            "    Uninstalling openpyxl-2.5.9:\n",
            "      Successfully uninstalled openpyxl-2.5.9\n",
            "  Attempting uninstall: beautifulsoup4\n",
            "    Found existing installation: beautifulsoup4 4.6.3\n",
            "    Uninstalling beautifulsoup4-4.6.3:\n",
            "      Successfully uninstalled beautifulsoup4-4.6.3\n",
            "\u001b[31mERROR: pip's dependency resolver does not currently take into account all the packages that are installed. This behaviour is the source of the following dependency conflicts.\n",
            "datascience 0.10.6 requires folium==0.2.1, but you have folium 0.8.3 which is incompatible.\u001b[0m\n",
            "Successfully installed akshare-1.1.51 beautifulsoup4-4.10.0 jsonpath-0.82 openpyxl-3.0.9 py-mini-racer-0.6.0 pypinyin-0.42.0 soupsieve-2.2.1 urllib3-1.25.11 websocket-client-1.2.1 xlrd-2.0.1\n"
          ]
        }
      ]
    },
    {
      "cell_type": "code",
      "metadata": {
        "colab": {
          "base_uri": "https://localhost:8080/"
        },
        "id": "LWgyf-1dbSEn",
        "outputId": "bc044085-57fc-47ff-9637-ed44d28ad630"
      },
      "source": [
        "import akshare as ak\n",
        "marco_china_hk_ppi_df = ak.marco_china_hk_ppi()\n",
        "print(marco_china_hk_ppi_df)\n"
      ],
      "execution_count": 5,
      "outputs": [
        {
          "output_type": "stream",
          "name": "stdout",
          "text": [
            "            时间    前值    现值        发布日期\n",
            "0   2021-06-01  1.70  2.70  2021-09-13\n",
            "1   2021-03-01  2.90  1.70  2021-06-15\n",
            "2   2020-12-01  3.80  2.90  2021-03-12\n",
            "3   2020-09-01  1.30  3.80  2020-12-14\n",
            "4   2020-06-01  1.30  1.30  2020-09-14\n",
            "5   2020-03-01  1.10  1.30  2020-06-12\n",
            "6   2019-12-01  1.40  1.10  2020-03-13\n",
            "7   2019-09-01  0.80  1.40         NaT\n",
            "8   2019-06-01  0.80  0.80  2019-09-12\n",
            "9   2019-03-01  0.30  0.80  2019-06-14\n",
            "10  2018-12-01  0.10  0.30  2019-03-14\n",
            "11  2018-09-01  3.80  0.10  2018-12-14\n",
            "12  2018-06-01  3.80  3.80  2018-09-13\n",
            "13  2018-03-01  3.50  3.80  2018-06-14\n",
            "14  2017-12-01  3.70  3.50  2018-03-13\n",
            "15  2017-09-01  3.70  3.70  2017-12-14\n",
            "16  2017-06-01  4.20  3.70  2017-09-14\n",
            "17  2017-03-01  4.00  4.20  2017-06-13\n",
            "18  2016-12-01  3.90  4.00  2017-03-13\n",
            "19  2016-09-01  0.40  3.90  2016-12-13\n",
            "20  2016-06-01 -2.80  0.40  2016-09-13\n",
            "21  2016-03-01 -3.20 -2.80  2016-06-14\n",
            "22  2015-12-01 -4.40 -3.20  2016-03-14\n",
            "23  2015-09-01 -2.80 -4.40  2015-12-14\n",
            "24  2015-06-01 -0.60 -2.80  2015-09-14\n",
            "25  2015-03-01 -1.20 -0.60  2015-06-12\n",
            "26  2014-12-01  1.30 -1.20  2015-03-13\n",
            "27  2014-09-01 -0.40  1.30  2014-12-12\n",
            "28  2014-06-01 -6.30 -0.40  2014-09-12\n",
            "29  2014-03-01 -5.50 -6.30  2014-06-20\n",
            "30  2013-12-01 -5.20 -5.50  2014-03-20\n",
            "31  2013-09-01 -2.40 -5.20  2013-12-12\n",
            "32  2013-06-01  0.60 -2.40  2013-11-20\n",
            "33  2013-03-01 -1.00  0.60  2013-08-20\n",
            "34  2012-12-01 -1.49 -1.00  2013-03-14\n",
            "35  2012-09-01 -0.62 -1.49  2012-12-13\n",
            "36  2012-06-01  3.64 -0.62  2012-09-13\n",
            "37  2012-03-01  6.61  3.64  2012-06-14\n",
            "38  2011-12-01  9.59  6.61  2012-03-12\n",
            "39  2011-09-01  8.97  9.59  2011-12-13\n",
            "40  2011-06-01  8.17  8.97  2011-09-15\n",
            "41  2011-03-01  7.62  8.17  2011-06-13\n",
            "42  2010-12-01  6.43  7.62  2011-03-11\n",
            "43  2010-09-01  5.92  6.43  2010-12-13\n",
            "44  2010-06-01  4.10  5.92  2010-09-13\n",
            "45  2010-03-01 -0.30  4.10  2010-06-14\n",
            "46  2009-12-01 -2.00 -0.30  2010-03-12\n",
            "47  2009-09-01 -2.97 -2.00  2009-12-14\n",
            "48  2009-06-01 -1.40 -2.97  2009-09-14\n",
            "49  2009-03-01  3.90 -1.40  2009-06-12\n",
            "50  2008-12-01  5.80  3.90  2009-03-13\n",
            "51  2008-09-01  6.90  5.80  2008-12-12\n",
            "52  2008-06-01  5.90  6.90  2008-09-12\n"
          ]
        }
      ]
    },
    {
      "cell_type": "code",
      "metadata": {
        "id": "9hVLCrOpbXpj"
      },
      "source": [
        "\n"
      ],
      "execution_count": null,
      "outputs": []
    },
    {
      "cell_type": "code",
      "metadata": {
        "id": "L59BDw5Bcm1g"
      },
      "source": [
        "var07=[87,90,92]\n",
        "var08=[99,92,89]"
      ],
      "execution_count": null,
      "outputs": []
    },
    {
      "cell_type": "code",
      "metadata": {
        "colab": {
          "base_uri": "https://localhost:8080/",
          "height": 263
        },
        "id": "ZY50rzGAdm20",
        "outputId": "8db40221-df05-42b4-dd32-ec41705c3724"
      },
      "source": [
        "res=random.randint(1,6)\n",
        "print(res)\n",
        "while True\n",
        "var09=int(input(\"请输入数据1-6之间\"))\n",
        "print(tyre(var09))\n",
        "if var09>6:\n",
        "  print(\"请重新输入 你输入的数据大于6\")\n",
        "else:\n",
        "  if var09>3:\n",
        "    print(\"大于3\")\n",
        "  else:\n",
        "    print(\"输入的小于等于3\")\n",
        " # print(var09)\n"
      ],
      "execution_count": null,
      "outputs": [
        {
          "output_type": "stream",
          "text": [
            "请输入数据1-6之间4\n"
          ],
          "name": "stdout"
        },
        {
          "output_type": "error",
          "ename": "NameError",
          "evalue": "ignored",
          "traceback": [
            "\u001b[0;31m---------------------------------------------------------------------------\u001b[0m",
            "\u001b[0;31mNameError\u001b[0m                                 Traceback (most recent call last)",
            "\u001b[0;32m<ipython-input-22-3b5bc5d28531>\u001b[0m in \u001b[0;36m<module>\u001b[0;34m()\u001b[0m\n\u001b[1;32m      1\u001b[0m \u001b[0mvar09\u001b[0m\u001b[0;34m=\u001b[0m\u001b[0mint\u001b[0m\u001b[0;34m(\u001b[0m\u001b[0minput\u001b[0m\u001b[0;34m(\u001b[0m\u001b[0;34m\"请输入数据1-6之间\"\u001b[0m\u001b[0;34m)\u001b[0m\u001b[0;34m)\u001b[0m\u001b[0;34m\u001b[0m\u001b[0;34m\u001b[0m\u001b[0m\n\u001b[0;32m----> 2\u001b[0;31m \u001b[0mprint\u001b[0m\u001b[0;34m(\u001b[0m\u001b[0mtyre\u001b[0m\u001b[0;34m(\u001b[0m\u001b[0mvar09\u001b[0m\u001b[0;34m)\u001b[0m\u001b[0;34m)\u001b[0m\u001b[0;34m\u001b[0m\u001b[0;34m\u001b[0m\u001b[0m\n\u001b[0m\u001b[1;32m      3\u001b[0m \u001b[0;32mif\u001b[0m \u001b[0mvar09\u001b[0m\u001b[0;34m>\u001b[0m\u001b[0;36m6\u001b[0m\u001b[0;34m:\u001b[0m\u001b[0;34m\u001b[0m\u001b[0;34m\u001b[0m\u001b[0m\n\u001b[1;32m      4\u001b[0m   \u001b[0mprint\u001b[0m\u001b[0;34m(\u001b[0m\u001b[0;34m\"请重新输入 你输入的数据大于6\"\u001b[0m\u001b[0;34m)\u001b[0m\u001b[0;34m\u001b[0m\u001b[0;34m\u001b[0m\u001b[0m\n\u001b[1;32m      5\u001b[0m \u001b[0;32melse\u001b[0m\u001b[0;34m:\u001b[0m\u001b[0;34m\u001b[0m\u001b[0;34m\u001b[0m\u001b[0m\n",
            "\u001b[0;31mNameError\u001b[0m: name 'tyre' is not defined"
          ]
        }
      ]
    },
    {
      "cell_type": "code",
      "metadata": {
        "colab": {
          "base_uri": "https://localhost:8080/"
        },
        "id": "TP_S15jTgKzi",
        "outputId": "77351f47-e66d-40bb-800a-dca2ffb92e37"
      },
      "source": [
        "7\n"
      ],
      "execution_count": null,
      "outputs": [
        {
          "output_type": "execute_result",
          "data": {
            "text/plain": [
              "7"
            ]
          },
          "metadata": {
            "tags": []
          },
          "execution_count": 12
        }
      ]
    },
    {
      "cell_type": "code",
      "metadata": {
        "id": "61Tuqd2CgPLM"
      },
      "source": [
        ""
      ],
      "execution_count": null,
      "outputs": []
    }
  ]
}